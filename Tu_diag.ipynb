{
 "cells": [
  {
   "cell_type": "code",
   "execution_count": 1,
   "metadata": {},
   "outputs": [],
   "source": [
    "import numpy as np\n",
    "import matplotlib.pyplot as plt\n",
    "import matplotlib.cm as cm\n",
    "from matplotlib import colors\n",
    "from matplotlib import ticker\n",
    "from matplotlib import rcParams\n",
    "from matplotlib import patches\n",
    "import scipy.io\n",
    "import astropy.constants as const\n",
    "rcParams['text.usetex'] = True\n",
    "rcParams['font.family'] = 'serif'\n",
    "import pandas as pd"
   ]
  },
  {
   "cell_type": "code",
   "execution_count": 6,
   "metadata": {},
   "outputs": [],
   "source": [
    "c = const.c.cgs.value\n",
    "amu = const.u.cgs.value\n",
    "k_B = const.k_B.cgs.value\n",
    "hplanck = const.h.cgs.value"
   ]
  },
  {
   "cell_type": "code",
   "execution_count": 36,
   "metadata": {},
   "outputs": [],
   "source": [
    "FeVIII_wid = 0.0887\n",
    "Fe_mass = 55.85\n",
    "FeIX_wid = 0.102\n",
    "FeX_wid = 0.0933\n",
    "FeXII_wid = 0.0874\n",
    "#FeXII_wid = 0.0936\n",
    "FeXIII_wid = 0.0934\n",
    "SX_wid = 0.1115\n",
    "#SX_wid = 0.140\n",
    "S_mass = 32.06\n",
    "#SVIII_wid = 0.0943\n",
    "SVIII_wid = 0.1314\n",
    "SiVII_wid = 0.1094\n",
    "SiX_wid = 0.1106\n",
    "Si_mass = 28.09\n",
    "MgVII_wid = 0.1032\n",
    "Mg_mass = 24.31\n",
    "slit_wid = 0.0808"
   ]
  },
  {
   "cell_type": "code",
   "execution_count": 37,
   "metadata": {},
   "outputs": [],
   "source": [
    "widths = np.array([FeVIII_wid, 0.0966, FeIX_wid, FeX_wid, FeXII_wid, FeXIII_wid, SX_wid, SiVII_wid, SiX_wid, MgVII_wid])\n",
    "wvl = np.array([185.2130, 186.59,197.8540, 184.5370, 192.3940, 202.0400, 264.2300, 275.3610, 258.3740, 276.1540])\n",
    "mass = np.array([Fe_mass,Fe_mass,Fe_mass,Fe_mass,Fe_mass,Fe_mass,S_mass, Si_mass, Si_mass, Mg_mass])\n",
    "widths_ex = np.sqrt(np.square(widths)  - np.square(slit_wid))\n",
    "turb_max = np.min(widths_ex)\n",
    "widths_min = np.sqrt(np.square(widths_ex) - np.square(turb_max))\n",
    "\n",
    "temp_max = np.square(widths/wvl*c)*mass*amu/2/k_B/(4*np.log(2))\n",
    "temp_min = np.square(widths_min/wvl*c)*mass*amu/2/k_B/(4*np.log(2))\n"
   ]
  },
  {
   "cell_type": "code",
   "execution_count": 38,
   "metadata": {},
   "outputs": [
    {
     "name": "stdout",
     "output_type": "stream",
     "text": [
      "FeVIII 5.8612747257113735 7.397419257100715\n",
      "FeVIII_186 6.723743871014396 7.465092473490291\n",
      "FeIX 6.8859581109268335 7.461425623998978\n",
      "FeX 6.532558202160926 7.4445113254508515\n",
      "FeXII -inf 7.351554767318473\n",
      "FeXIII 6.461389906899333 7.366733982836532\n",
      "SX 6.632542866792258 7.0464407758613135\n",
      "SiVII 6.495086426387248 6.936673295464543\n",
      "SiX 6.576099069432811 7.001456148217739\n",
      "MgVII 6.2721540382690035 6.820733449594659\n"
     ]
    },
    {
     "name": "stderr",
     "output_type": "stream",
     "text": [
      "/anaconda3/lib/python3.7/site-packages/ipykernel_launcher.py:3: RuntimeWarning: divide by zero encountered in log10\n",
      "  This is separate from the ipykernel package so we can avoid doing imports until\n"
     ]
    }
   ],
   "source": [
    "names = ['FeVIII','FeVIII_186','FeIX','FeX','FeXII','FeXIII','SX','SiVII','SiX','MgVII']\n",
    "for ii in range(len(names)):\n",
    "    print(names[ii],np.log10(temp_min[ii]),np.log10(temp_max[ii]))"
   ]
  },
  {
   "cell_type": "code",
   "execution_count": 18,
   "metadata": {},
   "outputs": [
    {
     "data": {
      "text/plain": [
       "0.041231056256176596"
      ]
     },
     "execution_count": 18,
     "metadata": {},
     "output_type": "execute_result"
    }
   ],
   "source": [
    "np.sqrt(0.09**2 - 0.08**2)"
   ]
  }
 ],
 "metadata": {
  "kernelspec": {
   "display_name": "Python 3",
   "language": "python",
   "name": "python3"
  },
  "language_info": {
   "codemirror_mode": {
    "name": "ipython",
    "version": 3
   },
   "file_extension": ".py",
   "mimetype": "text/x-python",
   "name": "python",
   "nbconvert_exporter": "python",
   "pygments_lexer": "ipython3",
   "version": "3.7.3"
  }
 },
 "nbformat": 4,
 "nbformat_minor": 4
}
